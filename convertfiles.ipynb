{
 "cells": [
  {
   "cell_type": "markdown",
   "metadata": {},
   "source": [
    "The **File Converter** project is designed to facilitate the conversion of various file types (e.g., PPTX, DOCX, PDF, JPG, JPEG, PNG) into markdown format. This tool leverages the `markitdown` library https://github.com/microsoft/markitdown to perform the conversions and saves the results in markdown files. The script automates the process of identifying supported file types in a directory, converting them, and saving the converted content as markdown files."
   ]
  },
  {
   "cell_type": "code",
   "execution_count": null,
   "metadata": {},
   "outputs": [],
   "source": [
    "from markitdown import MarkItDown\n",
    "from markitdown import MarkItDown\n",
    "from pathlib import Path\n",
    "from openai import AzureOpenAI\n",
    "\n",
    "import os\n",
    "from dotenv import load_dotenv\n",
    "\n",
    "from IPython.display import Markdown, display, Image\n",
    "#from openai import OpenAI\n",
    "import os\n",
    "\n",
    "md = MarkItDown()\n",
    "supported_extensions = ('.pptx', '.docx', '.pdf', '.jpg', '.jpeg', '.png')\n",
    "files_to_convert = [f for f in os.listdir('.') if f.lower().endswith(supported_extensions)]\n",
    "for file in files_to_convert:\n",
    "    print(f\"\\nConverting {file}...\")\n",
    "    try:\n",
    "        md_file = os.path.splitext(file)[0] + '.md'\n",
    "        result = md.convert(file)\n",
    "        with open(md_file, 'w', encoding=\"utf-8\") as f:\n",
    "            f.write(result.text_content)\n",
    "        \n",
    "        print(f\"Successfully converted {file} to {md_file}\")\n",
    "    except Exception as e:\n",
    "        print(f\"Error converting {file}: {str(e)}\")\n",
    "\n",
    "print(\"\\nAll conversions completed!\")"
   ]
  },
  {
   "cell_type": "code",
   "execution_count": null,
   "metadata": {},
   "outputs": [],
   "source": []
  }
 ],
 "metadata": {
  "kernelspec": {
   "display_name": ".conda",
   "language": "python",
   "name": "python3"
  },
  "language_info": {
   "codemirror_mode": {
    "name": "ipython",
    "version": 3
   },
   "file_extension": ".py",
   "mimetype": "text/x-python",
   "name": "python",
   "nbconvert_exporter": "python",
   "pygments_lexer": "ipython3",
   "version": "3.10.13"
  }
 },
 "nbformat": 4,
 "nbformat_minor": 2
}
